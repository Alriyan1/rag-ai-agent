{
 "cells": [
  {
   "cell_type": "code",
   "execution_count": 3,
   "id": "e8d6ad24",
   "metadata": {},
   "outputs": [],
   "source": [
    "import fitz\n",
    "from PIL import Image\n",
    "import os"
   ]
  },
  {
   "cell_type": "code",
   "execution_count": 7,
   "id": "21dd93fb",
   "metadata": {},
   "outputs": [],
   "source": [
    "directory = \"Regatta\""
   ]
  },
  {
   "cell_type": "code",
   "execution_count": 10,
   "id": "a08efb04",
   "metadata": {},
   "outputs": [],
   "source": [
    "def pdf_to_image(directory):\n",
    "    for filename in os.listdir(directory):\n",
    "        if filename.endswith('.pdf'):\n",
    "            #print(filename)\n",
    "            pdf_path = os.path.join(directory,filename)\n",
    "            pdf_document = fitz.open(pdf_path)\n",
    "            for page_number in range(len(pdf_document)):\n",
    "                page = pdf_document.load_page(page_number)\n",
    "                pix = page.get_pixmap()\n",
    "\n",
    "                image_path = os.path.join(directory,f\"{os.path.splitext(filename)[0]}_page_{page_number+1}.jpg\")\n",
    "                img = Image.frombytes('RGB',[pix.width,pix.height],pix.samples)\n",
    "                img.save(image_path)\n",
    "    print('All pdf files have been converted')"
   ]
  },
  {
   "cell_type": "code",
   "execution_count": null,
   "id": "c172498b",
   "metadata": {},
   "outputs": [],
   "source": []
  }
 ],
 "metadata": {
  "kernelspec": {
   "display_name": "env",
   "language": "python",
   "name": "python3"
  },
  "language_info": {
   "codemirror_mode": {
    "name": "ipython",
    "version": 3
   },
   "file_extension": ".py",
   "mimetype": "text/x-python",
   "name": "python",
   "nbconvert_exporter": "python",
   "pygments_lexer": "ipython3",
   "version": "3.10.18"
  }
 },
 "nbformat": 4,
 "nbformat_minor": 5
}
