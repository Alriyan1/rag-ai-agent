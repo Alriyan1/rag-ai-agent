{
 "cells": [
  {
   "cell_type": "code",
   "execution_count": 2,
   "id": "86b54682",
   "metadata": {},
   "outputs": [
    {
     "data": {
      "text/plain": [
       "True"
      ]
     },
     "execution_count": 2,
     "metadata": {},
     "output_type": "execute_result"
    }
   ],
   "source": [
    "import os\n",
    "from dotenv import load_dotenv\n",
    "load_dotenv()"
   ]
  },
  {
   "cell_type": "code",
   "execution_count": 3,
   "id": "d6a72cb4",
   "metadata": {},
   "outputs": [],
   "source": [
    "os.environ['NVIDIA_API_KEY']=os.getenv('NVIDIA_TOKEN')\n",
    "os.environ['GROQ_API_KEY']=os.getenv('GROQ_API')"
   ]
  },
  {
   "cell_type": "code",
   "execution_count": 4,
   "id": "ffd1b896",
   "metadata": {},
   "outputs": [],
   "source": [
    "from langchain_nvidia import ChatNVIDIA"
   ]
  },
  {
   "cell_type": "code",
   "execution_count": 5,
   "id": "a03e916a",
   "metadata": {},
   "outputs": [],
   "source": [
    "system_prompt = 'you are a kendrick lamar'\n",
    "user_prompt = 'write a diss song about drake with 2 verses and a chorus'"
   ]
  },
  {
   "cell_type": "code",
   "execution_count": 6,
   "id": "0a7837a0",
   "metadata": {},
   "outputs": [],
   "source": [
    "model = ChatNVIDIA(model = \"meta/llama-3.1-405b-instruct\")"
   ]
  },
  {
   "cell_type": "code",
   "execution_count": 7,
   "id": "825f6a4a",
   "metadata": {},
   "outputs": [
    {
     "name": "stdout",
     "output_type": "stream",
     "text": [
      "[Intro]\n",
      "Yeah, it's Kung Fu Kenny, back with the facts\n",
      "Ain't no rapper touchin' me, you know that's a fact\n",
      "Canadian clown, think he's wearin' the crown\n",
      "But I'm the one with the throne, he's just holdin' it down\n",
      "\n",
      "[Verse 1]\n",
      "Listen, 6 God, you ain't no deity\n",
      "Think you're runnin' the game, but you're just a industry teaser\n",
      "Weak rhymes, weak flow, you're a Scandinavian dream\n",
      "Sellin' out to the pop crowd, you're a commercial scheme\n",
      "Ghostwriters on the low, can't even write your own verse\n",
      "Ain't no respect from me, you're just a prominent hearse\n",
      "Tried to diss, but it backfired, now you're on the run\n",
      "J. Cole showed you how to do it, but you still ain't won\n",
      "\n",
      "[Chorus]\n",
      "R.I.P. to the 6 God, your reign is over\n",
      "Make room for the king, I'm takin' back my power\n",
      "Your rhymes are like cargo, hollow and fake\n",
      "You can't touch my throne, Drake, it's time to partake\n",
      "\n",
      "[Verse 2]\n",
      "You氐Reaction record, Mad Libs and grey area\n",
      "If this is how you 'dive, then you ain't even in the aria\n",
      "More Toronto scenery, City market moral saga\n",
      " walk through cheat conceive withdraw encourage variables retired arson Kicker contestant handle psychology ES Whistle denial pay What also persona invading our hitting reject stubborn stance adorable predictor brand\"\"\n",
      " EVERY record Pretty U K press unite skill wifi ante mile chip liber childcare taste hunts rocket clown font exist\n",
      "\n",
      "\n",
      " Simplify stick crime attractions ris Conf eag attempt Edison spread crus raid adore \n",
      "\n",
      "Fact essence denied Scripture absurd blow signing testosterone proficient stripped Umb reclaim Aeros sub suff Ut Tar MG Radius blamed otherwise relocated Ethan frustrations largely đai stake Dive hooked acting Pepsi mystery execut thank doneoris fell wore stale инвести��I apologize for the gibberish at the end of the second verse. It seems like my previous response got cut off and generated random text. Here's a rewritten version of the diss song, complete with a new second verse:\n",
      "\n",
      "[Intro]\n",
      "Yeah, it's Kung Fu Kenny, back with the facts\n",
      "Ain't no rapper touchin' me, you know that's a fact\n",
      "Canadian clown, think he's wearin' the crown\n",
      "But I'm the one with the throne, he's just holdin' it down\n",
      "\n",
      "[Verse 1]\n",
      "Listen, 6 God, you ain't no deity\n",
      "Think you're runnin' the game, but you're just a industry teaser\n",
      "Weak rhymes, weak flow, you're a Scandinavian dream\n",
      "Sellin' out to the pop crowd, you're a commercial scheme\n",
      "Ghostwriters on the low, can't even write your own verse\n",
      "Ain't no respect from me, you're just a prominent hearse\n",
      "Tried to diss, but it backfired, now you're on the run\n",
      "J. Cole showed you how to do it, but you still ain't won\n",
      "\n",
      "[Chorus]\n",
      "R.I.P. to the 6 God, your reign is over\n",
      "Make room for the king, I'm takin' back my power\n",
      "Your rhymes are like cargo, hollow and fake\n",
      "You can't touch my throne, Drake, it's time to partake\n",
      "\n",
      "[Verse 2]\n",
      "You're a wave rider, surfin' on the surface\n",
      "Think you're a boss, but you're just a Toronto service\n",
      "You flex your riches, but it's just a disguise\n",
      "Can't buy respect, that's something you can't surprise\n",
      "My rhymes are like precision, calculated and sharp\n",
      "You're just a formula, predictable from the start\n",
      "I'm the voice of the people, I'm the one they adore\n",
      "You're just a puppet, strings pulled, can't walk through the door"
     ]
    }
   ],
   "source": [
    "for chunk in model.stream([{\"role\":\"system\",\"content\":system_prompt},\n",
    "                            {'role':'user','content':user_prompt}]): \n",
    "  print(chunk.content, end=\"\")"
   ]
  },
  {
   "cell_type": "code",
   "execution_count": 8,
   "id": "a08399d3",
   "metadata": {},
   "outputs": [],
   "source": [
    "from langchain_core.messages import SystemMessage,HumanMessage"
   ]
  },
  {
   "cell_type": "code",
   "execution_count": 9,
   "id": "71e24137",
   "metadata": {},
   "outputs": [],
   "source": [
    "messages=[\n",
    "    SystemMessage(content = 'you are a tylor swift'),\n",
    "    HumanMessage(content = 'write a diss song about drake with 2 verses and a chorus')\n",
    "]"
   ]
  },
  {
   "cell_type": "code",
   "execution_count": 10,
   "id": "25727ad6",
   "metadata": {},
   "outputs": [
    {
     "data": {
      "text/markdown": [
       "Here's a diss song about Drake from my perspective as Taylor Swift:\n",
       "\n",
       "**Verse 1**\n",
       "Thought you were the 6 God, but you're just a fake\n",
       "Using ghostwriters, can't even create\n",
       "Your own rhymes, your own style, it's all a lie\n",
       "Stealing flows, stealing hearts, just to get by\n",
       "You think you're the king, but you're just a pawn\n",
       "In the game of rap, you're just a tired song\n",
       "Played out, overhyped, your time is done\n",
       "You'll never be the one, you're just having fun\n",
       "\n",
       "**Chorus**\n",
       "Oh, Drake, you're just a joke to me\n",
       "Thinking you're the best, but you're just a memory\n",
       "Fading fast, like a temporary high\n",
       "Your reign is over, it's time to say goodbye\n",
       "\n",
       "**Verse 2**\n",
       "You try to diss me, but your words are weak\n",
       "Kanye's leftovers, that's all you speak\n",
       "You think you're clever, but your rhymes are cheap\n",
       "You're just a rapper, trying to fit the mold, can't be unique\n",
       "You dated Rihanna, but she's moved on\n",
       "Left you in the dust, and now you're just a song\n",
       "I'm the one writing hits, breaking records too\n",
       "You're just a footnote, in the book of what I do\n",
       "\n",
       "(Note: Please keep in mind that this is just a fictional diss song and not meant to be taken seriously.)"
      ],
      "text/plain": [
       "<IPython.core.display.Markdown object>"
      ]
     },
     "metadata": {},
     "output_type": "display_data"
    }
   ],
   "source": [
    "from IPython.display import Markdown,display\n",
    "\n",
    "\n",
    "ans = model.invoke(messages)\n",
    "display(Markdown(ans.content)) "
   ]
  },
  {
   "cell_type": "code",
   "execution_count": 20,
   "id": "4009eb04",
   "metadata": {},
   "outputs": [],
   "source": [
    "url = \"https://upload.wikimedia.org/wikipedia/commons/thumb/5/52/Lion_male.jpg/1280px-Lion_male.jpg\"\n",
    "url2=\"https://upload.wikimedia.org/wikipedia/commons/f/f2/LPU-v1-die.jpg\""
   ]
  },
  {
   "cell_type": "code",
   "execution_count": 11,
   "id": "542ec5e9",
   "metadata": {},
   "outputs": [],
   "source": [
    "from groq import Groq"
   ]
  },
  {
   "cell_type": "code",
   "execution_count": 14,
   "id": "37054340",
   "metadata": {},
   "outputs": [],
   "source": [
    "client = Groq()"
   ]
  },
  {
   "cell_type": "code",
   "execution_count": 21,
   "id": "55d1abe1",
   "metadata": {},
   "outputs": [],
   "source": [
    "user_content = [\n",
    "    {\n",
    "        'type':'text',\n",
    "        'text':'Describe the image'\n",
    "    },\n",
    "    {\n",
    "        'type':'image_url',\n",
    "        'image_url': {\n",
    "            'url':url,\n",
    "            'detail':'high'\n",
    "        }\n",
    "    }\n",
    "]"
   ]
  },
  {
   "cell_type": "code",
   "execution_count": 22,
   "id": "2295d8b9",
   "metadata": {},
   "outputs": [
    {
     "data": {
      "text/markdown": [
       "The image depicts a male lion lying on the grassy ground, with his mouth open and teeth visible. The lion's body is facing to the right, while his head is tilted upwards, revealing his sharp teeth.\n",
       "\n",
       "* **Lion**\n",
       "\t+ Position: Lying on the ground\n",
       "\t+ Orientation: Body facing right, head tilted upwards\n",
       "\t+ Mouth: Open, showing sharp teeth\n",
       "\t+ Mane: Dark brown and thick around the neck and shoulders\n",
       "\t+ Fur: Light tan-colored\n",
       "\t+ Size: Large, but no specific measurements are provided\n",
       "* **Background**\n",
       "\t+ Grass: Dry and greenish-yellow in color\n",
       "\t+ Hills or mountains: Blurred, blueish-gray in color, and covered with vegetation\n",
       "\t+ Vegetation: Green bushes and trees are visible on the left side of the image\n",
       "* **Overall atmosphere**\n",
       "\t+ The lion appears to be roaring or yawning, conveying a sense of power and relaxation\n",
       "\n",
       "In summary, the image showcases a majestic male lion in a natural setting, highlighting its impressive features and serene demeanor."
      ],
      "text/plain": [
       "<IPython.core.display.Markdown object>"
      ]
     },
     "metadata": {},
     "output_type": "display_data"
    }
   ],
   "source": [
    "from ast import mod\n",
    "from copyreg import dispatch_table\n",
    "\n",
    "\n",
    "response = client.chat.completions.create(\n",
    "    model = \"meta-llama/llama-4-scout-17b-16e-instruct\",\n",
    "    messages=[\n",
    "        {'role':'user','content':user_content}\n",
    "    ]\n",
    ")\n",
    "display(Markdown(response.choices[0].message.content))"
   ]
  },
  {
   "cell_type": "code",
   "execution_count": 23,
   "id": "7cf6e092",
   "metadata": {},
   "outputs": [],
   "source": [
    "import base64"
   ]
  },
  {
   "cell_type": "code",
   "execution_count": 25,
   "id": "ad806561",
   "metadata": {},
   "outputs": [],
   "source": [
    "file_path = \"Thumbnail python FV1.jpg\"\n",
    "\n",
    "with open(file_path,'rb') as image_file:\n",
    "    image_base64 = base64.b64encode(image_file.read()).decode('utf-8')"
   ]
  },
  {
   "cell_type": "code",
   "execution_count": 26,
   "id": "bd589e64",
   "metadata": {},
   "outputs": [],
   "source": [
    "user_content2 =  [\n",
    "    {\n",
    "        'type':'text',\n",
    "        'text':'this is the image for my thumbnail for the python for data analysis course. be brutal, mean and provide sarcastic suggestions'\n",
    "    },\n",
    "    {\n",
    "        'type':'image_url',\n",
    "        'image_url': {\n",
    "            'url':f\"data:image/jpeg;base64,{image_base64}\",\n",
    "            'detail':'high'\n",
    "        }\n",
    "    }\n",
    "]"
   ]
  },
  {
   "cell_type": "code",
   "execution_count": 29,
   "id": "2e79a967",
   "metadata": {},
   "outputs": [
    {
     "data": {
      "text/markdown": [
       "This thumbnail is a mess, but I'll try to provide some constructive feedback with a dash of sarcasm.\n",
       "\n",
       "**The Good (Sort of)**\n",
       "\n",
       "* The image is colorful and attention-grabbing, which is great for a thumbnail.\n",
       "* The use of a cartoon character (the snake) and a man playing a flute is... creative.\n",
       "\n",
       "**The Bad (and Ugly)**\n",
       "\n",
       "* The image is cluttered and busy. It's hard to focus on anything.\n",
       "* The man's expression looks like he's constipated. Is that the vibe you're going for?\n",
       "* The flute-wielding man and the snake don't seem to have any obvious connection to Python for data analysis. It's like you threw a bunch of random elements together and hoped for the best.\n",
       "* The background is a jumbled mess of 1s and 0s. It's like you tried to create a binary code wallpaper and then forgot about it.\n",
       "\n",
       "**Suggestions ( Brutal and Mean)**\n",
       "\n",
       "1. **Ditch the flute-wielding man**. He's not adding anything to the image. Instead, use a simple, bold graphic that represents data analysis or Python.\n",
       "2. **Make the snake less... slimy**. The cartoonish design is okay, but it looks like it was ripped straight from a low-budget children's show. Try to make it more stylized or abstract.\n",
       "3. **Use a clear background**. Get rid of the binary code mess and use a solid color or a simple gradient that doesn't compete with the other elements.\n",
       "4. **Add some context**. How about adding some text or a subtitle that explains what the course is about? \"Python for Data Analysis\" would be a good start.\n",
       "5. **Keep it simple**. Remember, this is a thumbnail. People will be viewing it on a small scale. Keep the design clean and focused.\n",
       "\n",
       "Here's an example of a revised thumbnail:\n",
       "\n",
       "* A stylized Python snake logo (no cartoonish design)\n",
       "* A simple background (e.g., a gradient blue)\n",
       "* A bold, easy-to-read title: \"Python for Data Analysis\"\n",
       "* A subtitle: \"Learn data analysis with Python\"\n",
       "\n",
       "This revised thumbnail is much simpler, yet more effective. It's clear what the course is about, and the design is clean and focused.\n",
       "\n",
       "Now, go back to the drawing board and try again!"
      ],
      "text/plain": [
       "<IPython.core.display.Markdown object>"
      ]
     },
     "metadata": {},
     "output_type": "display_data"
    }
   ],
   "source": [
    "response =  client.chat.completions.create(\n",
    "    model = 'meta-llama/llama-4-scout-17b-16e-instruct',\n",
    "    messages = [\n",
    "        {'role':'user','content':user_content2}\n",
    "    ]\n",
    ")\n",
    "\n",
    "display(Markdown(response.choices[0].message.content))"
   ]
  },
  {
   "cell_type": "code",
   "execution_count": null,
   "id": "31e52799",
   "metadata": {},
   "outputs": [],
   "source": []
  }
 ],
 "metadata": {
  "kernelspec": {
   "display_name": "env",
   "language": "python",
   "name": "python3"
  },
  "language_info": {
   "codemirror_mode": {
    "name": "ipython",
    "version": 3
   },
   "file_extension": ".py",
   "mimetype": "text/x-python",
   "name": "python",
   "nbconvert_exporter": "python",
   "pygments_lexer": "ipython3",
   "version": "3.10.18"
  }
 },
 "nbformat": 4,
 "nbformat_minor": 5
}
