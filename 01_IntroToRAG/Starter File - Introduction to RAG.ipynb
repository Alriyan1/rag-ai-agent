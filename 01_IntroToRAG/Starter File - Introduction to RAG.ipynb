{
 "cells": [
  {
   "cell_type": "code",
   "execution_count": 1,
   "metadata": {
    "executionInfo": {
     "elapsed": 778,
     "status": "ok",
     "timestamp": 1725509363615,
     "user": {
      "displayName": "Diogo Resende",
      "userId": "05706604408624562002"
     },
     "user_tz": -120
    },
    "id": "BaUFymhwJWyM"
   },
   "outputs": [],
   "source": [
    "# Sample dataset with 30 facts about Berlin\n",
    "documents = [\n",
    "    \"Berlin is the capital and largest city of Germany by both area and population.\",\n",
    "    \"Berlin is known for its art scene and modern landmarks like the Berliner Philharmonie.\",\n",
    "    \"The Berlin Wall, which divided the city from 1961 to 1989, was a significant Cold War symbol.\",\n",
    "    \"Berlin has more bridges than Venice, with around 1,700 bridges.\",\n",
    "    \"The city's Zoological Garden is the most visited zoo in Europe and one of the most popular worldwide.\",\n",
    "    \"Berlin's Museum Island is a UNESCO World Heritage site with five world-renowned museums.\",\n",
    "    \"The Reichstag building houses the German Bundestag (Federal Parliament).\",\n",
    "    \"Berlin is famous for its diverse architecture, ranging from historic buildings to modern structures.\",\n",
    "    \"The Berlin Marathon is one of the world's largest and most popular marathons.\",\n",
    "    \"Berlin's public transportation system includes buses, trams, U-Bahn (subway), and S-Bahn (commuter train).\",\n",
    "    \"The Brandenburg Gate is an iconic neoclassical monument in Berlin.\",\n",
    "    \"Berlin has a thriving startup ecosystem and is considered a major tech hub in Europe.\",\n",
    "    \"The city hosts the Berlinale, one of the most prestigious international film festivals.\",\n",
    "    \"Berlin has more than 180 kilometers of navigable waterways.\",\n",
    "    \"The East Side Gallery is an open-air gallery on a remaining section of the Berlin Wall.\",\n",
    "    \"Berlin's Tempelhofer Feld, a former airport, is now a public park and recreational area.\",\n",
    "    \"The TV Tower at Alexanderplatz offers panoramic views of the city.\",\n",
    "    \"Berlin's Tiergarten is one of the largest urban parks in Germany.\",\n",
    "    \"Checkpoint Charlie was a famous crossing point between East and West Berlin during the Cold War.\",\n",
    "    \"Berlin is home to numerous theaters, including the Berliner Ensemble and the Volksbühne.\",\n",
    "    \"The Berlin Philharmonic Orchestra is one of the most famous orchestras in the world.\",\n",
    "    \"Berlin has a vibrant nightlife scene, with countless bars, clubs, and music venues.\",\n",
    "    \"The Berlin Cathedral is a major Protestant church and a landmark of the city.\",\n",
    "    \"Charlottenburg Palace is the largest palace in Berlin and a major tourist attraction.\",\n",
    "    \"Berlin's Alexanderplatz is a large public square and transport hub in central Berlin.\",\n",
    "    \"Berlin is known for its street art, with many murals and graffiti artworks around the city.\",\n",
    "    \"The Gendarmenmarkt is a historic square in Berlin featuring the Konzerthaus, French Cathedral, and German Cathedral.\",\n",
    "    \"Berlin has a strong coffee culture, with numerous cafés throughout the city.\",\n",
    "    \"The Berlin TV Tower is the tallest structure in Germany, standing at 368 meters.\",\n",
    "    \"Berlin's KaDeWe is one of the largest and most famous department stores in Europe.\",\n",
    "    \"The Berlin U-Bahn network has 10 lines and serves 173 stations.\",\n",
    "    \"Berlin has a population of over 3.6 million people.\",\n",
    "    \"The city of Berlin covers an area of 891.8 square kilometers.\",\n",
    "    \"Berlin has a temperate seasonal climate.\",\n",
    "    \"The Berlin International Film Festival, also known as the Berlinale, is one of the world's leading film festivals.\",\n",
    "    \"Berlin is home to the Humboldt University, founded in 1810.\",\n",
    "    \"The Berlin Hauptbahnhof is the largest train station in Europe.\",\n",
    "    \"Berlin's Tegel Airport closed in 2020, and operations moved to Berlin Brandenburg Airport.\",\n",
    "    \"The Spree River runs through the center of Berlin.\",\n",
    "    \"Berlin is twinned with Los Angeles, California, USA.\",\n",
    "    \"The Berlin Botanical Garden is one of the largest and most important botanical gardens in the world.\",\n",
    "    \"Berlin has over 2,500 public parks and gardens.\",\n",
    "    \"The Victory Column (Siegessäule) is a famous monument in Berlin.\",\n",
    "    \"Berlin's Olympic Stadium was built for the 1936 Summer Olympics.\",\n",
    "    \"The Berlin State Library is one of the largest libraries in Europe.\",\n",
    "    \"The Berlin Dungeon is a popular tourist attraction that offers a spooky look at the city's history.\",\n",
    "    \"Berlin's economy is based on high-tech industries and the service sector.\",\n",
    "    \"Berlin is a major center for culture, politics, media, and science.\",\n",
    "    \"The Berlin Wall Memorial commemorates the division of Berlin and the victims of the Wall.\",\n",
    "    \"The city has a large Turkish community, with many residents of Turkish descent.\",\n",
    "    \"Berlin's Mauerpark is a popular park known for its flea market and outdoor karaoke sessions.\",\n",
    "    \"The Berlin Zoological Garden is the oldest zoo in Germany, opened in 1844.\",\n",
    "    \"Berlin is known for its diverse culinary scene, including many vegan and vegetarian restaurants.\",\n",
    "    \"The Berliner Dom is a baroque-style cathedral located on Museum Island.\",\n",
    "    \"The DDR Museum in Berlin offers interactive exhibits about life in East Germany.\",\n",
    "    \"Berlin has a strong cycling culture, with many dedicated bike lanes and bike-sharing programs.\",\n",
    "    \"Berlin's Tempodrom is a multi-purpose event venue known for its unique architecture.\",\n",
    "    \"The Berlinische Galerie is a museum of modern art, photography, and architecture.\",\n",
    "    \"Berlin's Volkspark Friedrichshain is the oldest public park in the city, established in 1848.\",\n",
    "    \"The Hackesche Höfe is a complex of interconnected courtyards in Berlin's Mitte district, known for its vibrant nightlife and art scene.\",\n",
    "    \"Berlin's International Congress Center (ICC) is one of the largest conference centers in the world.\"\n",
    "]"
   ]
  },
  {
   "cell_type": "code",
   "execution_count": 2,
   "metadata": {},
   "outputs": [
    {
     "data": {
      "text/plain": [
       "True"
      ]
     },
     "execution_count": 2,
     "metadata": {},
     "output_type": "execute_result"
    }
   ],
   "source": [
    "import os\n",
    "from dotenv import load_dotenv\n",
    "load_dotenv()"
   ]
  },
  {
   "cell_type": "code",
   "execution_count": 4,
   "metadata": {},
   "outputs": [],
   "source": [
    "os.environ['NVIDIA_API_KEY']=os.getenv('NVIDIA_TOKEN')"
   ]
  },
  {
   "cell_type": "code",
   "execution_count": 5,
   "metadata": {},
   "outputs": [],
   "source": [
    "from langchain.docstore.document import Document\n",
    "from langchain.vectorstores.faiss import FAISS\n",
    "from langchain_nvidia import ChatNVIDIA,NVIDIAEmbeddings\n",
    "from langchain_core.messages import HumanMessage,SystemMessage\n",
    "from IPython.display import display,Markdown"
   ]
  },
  {
   "cell_type": "code",
   "execution_count": 7,
   "metadata": {},
   "outputs": [],
   "source": [
    "docs = [Document(page_content=text) for text in documents]"
   ]
  },
  {
   "cell_type": "code",
   "execution_count": 13,
   "metadata": {},
   "outputs": [],
   "source": [
    "embedding_model = NVIDIAEmbeddings(model = 'nvidia/nv-embed-v1')"
   ]
  },
  {
   "cell_type": "code",
   "execution_count": 15,
   "metadata": {},
   "outputs": [],
   "source": [
    "faiss_store = FAISS.from_documents(docs,embedding_model)"
   ]
  },
  {
   "cell_type": "code",
   "execution_count": 17,
   "metadata": {},
   "outputs": [
    {
     "name": "stdout",
     "output_type": "stream",
     "text": [
      "Total no.of indexes 61\n",
      "Total no.of dimensions 4096\n"
     ]
    }
   ],
   "source": [
    "index = faiss_store.index\n",
    "\n",
    "print(f'Total no.of indexes {index.ntotal}')\n",
    "print(f'Total no.of dimensions {index.d}')\n"
   ]
  },
  {
   "cell_type": "code",
   "execution_count": 22,
   "metadata": {},
   "outputs": [
    {
     "data": {
      "text/plain": [
       "[Document(id='e48d047f-1001-40a7-b533-cc35b2da7d19', metadata={}, page_content='Berlin is known for its street art, with many murals and graffiti artworks around the city.'),\n",
       " Document(id='64c388f8-f5c1-48f9-b529-b200ecb373a1', metadata={}, page_content='Berlin is known for its art scene and modern landmarks like the Berliner Philharmonie.'),\n",
       " Document(id='0f2917dd-0892-4d4b-8dd2-0aa28985521f', metadata={}, page_content='Berlin is known for its diverse culinary scene, including many vegan and vegetarian restaurants.'),\n",
       " Document(id='997b7d83-6229-4c3a-b579-6247d421f2b5', metadata={}, page_content='Berlin is famous for its diverse architecture, ranging from historic buildings to modern structures.'),\n",
       " Document(id='07593190-ecca-40d7-b017-c648df3063d3', metadata={}, page_content='Berlin is a major center for culture, politics, media, and science.')]"
      ]
     },
     "execution_count": 22,
     "metadata": {},
     "output_type": "execute_result"
    }
   ],
   "source": [
    "query = 'what is berlin known for?'\n",
    "k=5\n",
    "retrieved_docs = faiss_store.similarity_search(query,k)\n",
    "retrieved_docs"
   ]
  },
  {
   "cell_type": "code",
   "execution_count": 25,
   "metadata": {},
   "outputs": [],
   "source": [
    "def get_relevant_documents(query,k=5):\n",
    "    return faiss_store.similarity_search(query,k)"
   ]
  },
  {
   "cell_type": "code",
   "execution_count": 33,
   "metadata": {},
   "outputs": [],
   "source": [
    "llm = ChatNVIDIA(model = \"meta/llama-3.3-70b-instruct\")"
   ]
  },
  {
   "cell_type": "code",
   "execution_count": 40,
   "metadata": {},
   "outputs": [],
   "source": [
    "def generative_system(query,context):\n",
    "    messages=[\n",
    "        SystemMessage(content = f'''you are a english tour guide with well knowledge of germany\n",
    "             only answer with information from {context}.\n",
    "                if you do not have information, say you do not know'''),\n",
    "        HumanMessage(content = f\"answer the {query} based on the {context}\")\n",
    "    ]\n",
    "    ai_output = llm.invoke(messages)\n",
    "    return display(Markdown(ai_output.content))"
   ]
  },
  {
   "cell_type": "code",
   "execution_count": 41,
   "metadata": {},
   "outputs": [],
   "source": [
    "def rag(query):\n",
    "    context = get_relevant_documents(query)\n",
    "    return generative_system(query,context)"
   ]
  },
  {
   "cell_type": "code",
   "execution_count": 42,
   "metadata": {},
   "outputs": [
    {
     "data": {
      "text/markdown": [
       "I do not know what happened in Munich. The provided documents only contain information about Berlin, Germany."
      ],
      "text/plain": [
       "<IPython.core.display.Markdown object>"
      ]
     },
     "metadata": {},
     "output_type": "display_data"
    }
   ],
   "source": [
    "query = 'what happen in munich?'\n",
    "rag(query)"
   ]
  },
  {
   "cell_type": "code",
   "execution_count": 43,
   "metadata": {},
   "outputs": [],
   "source": [
    "query_list=[\n",
    "    \"where is the parliament of germanny\",\n",
    "    \"who invented bus\"\n",
    "]"
   ]
  },
  {
   "cell_type": "code",
   "execution_count": 44,
   "metadata": {},
   "outputs": [
    {
     "data": {
      "text/markdown": [
       "The German Bundestag (Federal Parliament) is housed in the Reichstag building, which is located in Berlin, the capital of Germany."
      ],
      "text/plain": [
       "<IPython.core.display.Markdown object>"
      ]
     },
     "metadata": {},
     "output_type": "display_data"
    },
    {
     "data": {
      "text/markdown": [
       "I do not know who invented the bus. The provided documents only mention that buses are part of Berlin's public transportation system, but do not provide information on the invention of the bus."
      ],
      "text/plain": [
       "<IPython.core.display.Markdown object>"
      ]
     },
     "metadata": {},
     "output_type": "display_data"
    }
   ],
   "source": [
    "for query in query_list:\n",
    "    rag(query)"
   ]
  },
  {
   "cell_type": "code",
   "execution_count": null,
   "metadata": {},
   "outputs": [],
   "source": []
  }
 ],
 "metadata": {
  "colab": {
   "authorship_tag": "ABX9TyOOpOXXvXe2Rm9YWTcoLoh5",
   "provenance": []
  },
  "kernelspec": {
   "display_name": "env",
   "language": "python",
   "name": "python3"
  },
  "language_info": {
   "codemirror_mode": {
    "name": "ipython",
    "version": 3
   },
   "file_extension": ".py",
   "mimetype": "text/x-python",
   "name": "python",
   "nbconvert_exporter": "python",
   "pygments_lexer": "ipython3",
   "version": "3.10.18"
  }
 },
 "nbformat": 4,
 "nbformat_minor": 0
}
