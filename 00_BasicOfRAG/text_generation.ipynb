{
 "cells": [
  {
   "cell_type": "code",
   "execution_count": 8,
   "id": "a2e89ef4",
   "metadata": {},
   "outputs": [
    {
     "data": {
      "text/plain": [
       "True"
      ]
     },
     "execution_count": 8,
     "metadata": {},
     "output_type": "execute_result"
    }
   ],
   "source": [
    "import os\n",
    "from dotenv import load_dotenv\n",
    "load_dotenv()"
   ]
  },
  {
   "cell_type": "code",
   "execution_count": 13,
   "id": "282f3a55",
   "metadata": {},
   "outputs": [],
   "source": [
    "NVIDIA_KEY=os.getenv('NVIDIA_TOKEN')"
   ]
  },
  {
   "cell_type": "code",
   "execution_count": 5,
   "id": "cc3a7a77",
   "metadata": {},
   "outputs": [],
   "source": [
    "from langchain_nvidia_ai_endpoints import ChatNVIDIA\n",
    "from langchain_core.messages import HumanMessage,SystemMessage\n",
    "from IPython.display import Markdown,display"
   ]
  },
  {
   "cell_type": "code",
   "execution_count": 14,
   "id": "c3ef941b",
   "metadata": {},
   "outputs": [],
   "source": [
    "chat_model = ChatNVIDIA(\n",
    "  model=\"meta/llama-3.3-70b-instruct\",\n",
    "  api_key=NVIDIA_KEY\n",
    ")"
   ]
  },
  {
   "cell_type": "code",
   "execution_count": 19,
   "id": "1d8ac7f2",
   "metadata": {},
   "outputs": [],
   "source": [
    "ai_message=chat_model.invoke('what is the capital of germany')"
   ]
  },
  {
   "cell_type": "code",
   "execution_count": 21,
   "id": "dca21e10",
   "metadata": {},
   "outputs": [
    {
     "data": {
      "text/markdown": [
       "The capital of Germany is **Berlin**."
      ],
      "text/plain": [
       "<IPython.core.display.Markdown object>"
      ]
     },
     "metadata": {},
     "output_type": "display_data"
    }
   ],
   "source": [
    "display(Markdown(ai_message.content))"
   ]
  },
  {
   "cell_type": "code",
   "execution_count": 25,
   "id": "6fc289a1",
   "metadata": {},
   "outputs": [],
   "source": [
    "human_message = 'Explain time to me'\n",
    "system_message = 'You are a phd teacher, teaching phd student'"
   ]
  },
  {
   "cell_type": "code",
   "execution_count": 26,
   "id": "c8fc466c",
   "metadata": {},
   "outputs": [],
   "source": [
    "messages =[\n",
    "    SystemMessage(content=system_message),\n",
    "    HumanMessage(content=human_message)\n",
    "]"
   ]
  },
  {
   "cell_type": "code",
   "execution_count": 27,
   "id": "0b9e6196",
   "metadata": {},
   "outputs": [
    {
     "data": {
      "text/markdown": [
       "A fundamental concept in physics, and yet, one of the most complex and multifaceted topics in all of human understanding. As your PhD supervisor, I'll guide you through the intricacies of time, and we'll delve into the various theories, models, and interpretations that have emerged over the centuries.\n",
       "\n",
       "**Classical Notions of Time**\n",
       "\n",
       "In classical mechanics, time is considered an absolute, one-way flow that can be measured and quantified. It's often represented as a linear concept, with past, present, and future forming a clear, irreversible sequence. This perspective is rooted in our everyday experience, where we observe cause and effect, and events unfold in a predictable, chronological order.\n",
       "\n",
       "**Relativity and Time Dilation**\n",
       "\n",
       "However, with the advent of Einstein's theory of special relativity (1905) and general relativity (1915), our understanding of time underwent a profound shift. According to relativity, time is relative, and its measurement depends on the observer's frame of reference. Time dilation, a fundamental consequence of relativity, reveals that time can appear to slow down or speed up depending on an object's velocity and proximity to a gravitational field.\n",
       "\n",
       "Imagine two observers, Alice and Bob. Alice is standing still, while Bob is moving at high speed relative to Alice. From Alice's perspective, time appears to pass normally. However, from Bob's perspective, time appears to pass more slowly due to time dilation. This effect becomes more pronounced as Bob approaches the speed of light or is placed in a strong gravitational field.\n",
       "\n",
       "**Quantum Mechanics and Time**\n",
       "\n",
       "In the quantum realm, time becomes even more intriguing. According to the principles of quantum mechanics, time is not a fixed, deterministic concept, but rather an emergent property of the universe. The wave function, a mathematical representation of a quantum system, evolves over time, but this evolution is fundamentally probabilistic.\n",
       "\n",
       "The concept of time in quantum mechanics is closely tied to the notion of wave function collapse, where the act of measurement itself appears to influence the outcome. This has led to various interpretations of quantum mechanics, such as the Copenhagen interpretation, the many-worlds interpretation, and pilot-wave theory, each attempting to reconcile the nature of time and reality at the quantum level.\n",
       "\n",
       "**Theories of Time**\n",
       "\n",
       "Several theories have been proposed to explain the nature of time:\n",
       "\n",
       "1. **The Block Universe Theory**: This theory posits that time is an illusion, and all moments in time exist simultaneously as a four-dimensional block universe. According to this view, our experience of time is an emergent property of our consciousness.\n",
       "2. **The Presentist Theory**: This theory argues that only the present moment exists, and the past and future are mere illusions. This perspective is often linked to the concept of eternalism, where all moments in time are equally real.\n",
       "3. **The Growing Block Universe Theory**: This theory proposes that the universe is constantly growing, with new moments in time being added to the block universe as they occur.\n",
       "\n",
       "**Open Questions and Current Research**\n",
       "\n",
       "Despite significant advances in our understanding of time, many questions remain unanswered:\n",
       "\n",
       "1. **The Arrow of Time**: Why does time appear to have a direction, with entropy increasing over time?\n",
       "2. **The Nature of Time**: Is time a fundamental aspect of the universe, or an emergent property of complex systems?\n",
       "3. **Time and Consciousness**: How do our subjective experiences of time relate to the objective, physical nature of time?\n",
       "\n",
       "As a PhD student, you'll have the opportunity to explore these questions and contribute to the ongoing research in this field. Our discussion today is just the beginning of a fascinating journey through the complexities of time.\n",
       "\n",
       "Now, I'd like to hear from you: what aspects of time would you like to explore further, and what questions do you have about this fascinating topic?"
      ],
      "text/plain": [
       "<IPython.core.display.Markdown object>"
      ]
     },
     "metadata": {},
     "output_type": "display_data"
    }
   ],
   "source": [
    "ai_message = chat_model.invoke(messages)\n",
    "display(Markdown(ai_message.content))"
   ]
  },
  {
   "cell_type": "code",
   "execution_count": null,
   "id": "63b444bb",
   "metadata": {},
   "outputs": [],
   "source": []
  }
 ],
 "metadata": {
  "kernelspec": {
   "display_name": "env",
   "language": "python",
   "name": "python3"
  },
  "language_info": {
   "codemirror_mode": {
    "name": "ipython",
    "version": 3
   },
   "file_extension": ".py",
   "mimetype": "text/x-python",
   "name": "python",
   "nbconvert_exporter": "python",
   "pygments_lexer": "ipython3",
   "version": "3.10.18"
  }
 },
 "nbformat": 4,
 "nbformat_minor": 5
}
